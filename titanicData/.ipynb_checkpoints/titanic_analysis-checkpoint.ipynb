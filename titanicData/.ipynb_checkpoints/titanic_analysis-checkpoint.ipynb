{
 "cells": [
  {
   "cell_type": "code",
   "execution_count": 178,
   "id": "56cdd2f3",
   "metadata": {},
   "outputs": [],
   "source": [
    "import numpy as np\n",
    "import pandas as pd\n",
    "import matplotlib.pyplot as plt\n",
    "import seaborn as sns"
   ]
  },
  {
   "cell_type": "code",
   "execution_count": 179,
   "id": "ccccae44",
   "metadata": {},
   "outputs": [],
   "source": [
    "train_data = pd.read_csv(\"train.csv\")\n",
    "test_data = pd.read_csv(\"test.csv\")"
   ]
  },
  {
   "cell_type": "code",
   "execution_count": 180,
   "id": "9a3864d0",
   "metadata": {},
   "outputs": [
    {
     "data": {
      "text/html": [
       "<div>\n",
       "<style scoped>\n",
       "    .dataframe tbody tr th:only-of-type {\n",
       "        vertical-align: middle;\n",
       "    }\n",
       "\n",
       "    .dataframe tbody tr th {\n",
       "        vertical-align: top;\n",
       "    }\n",
       "\n",
       "    .dataframe thead th {\n",
       "        text-align: right;\n",
       "    }\n",
       "</style>\n",
       "<table border=\"1\" class=\"dataframe\">\n",
       "  <thead>\n",
       "    <tr style=\"text-align: right;\">\n",
       "      <th></th>\n",
       "      <th>PassengerId</th>\n",
       "      <th>Survived</th>\n",
       "      <th>Pclass</th>\n",
       "      <th>Name</th>\n",
       "      <th>Sex</th>\n",
       "      <th>Age</th>\n",
       "      <th>SibSp</th>\n",
       "      <th>Parch</th>\n",
       "      <th>Ticket</th>\n",
       "      <th>Fare</th>\n",
       "      <th>Cabin</th>\n",
       "      <th>Embarked</th>\n",
       "    </tr>\n",
       "  </thead>\n",
       "  <tbody>\n",
       "    <tr>\n",
       "      <th>0</th>\n",
       "      <td>1</td>\n",
       "      <td>0</td>\n",
       "      <td>3</td>\n",
       "      <td>Braund, Mr. Owen Harris</td>\n",
       "      <td>male</td>\n",
       "      <td>22.0</td>\n",
       "      <td>1</td>\n",
       "      <td>0</td>\n",
       "      <td>A/5 21171</td>\n",
       "      <td>7.2500</td>\n",
       "      <td>NaN</td>\n",
       "      <td>S</td>\n",
       "    </tr>\n",
       "    <tr>\n",
       "      <th>1</th>\n",
       "      <td>2</td>\n",
       "      <td>1</td>\n",
       "      <td>1</td>\n",
       "      <td>Cumings, Mrs. John Bradley (Florence Briggs Th...</td>\n",
       "      <td>female</td>\n",
       "      <td>38.0</td>\n",
       "      <td>1</td>\n",
       "      <td>0</td>\n",
       "      <td>PC 17599</td>\n",
       "      <td>71.2833</td>\n",
       "      <td>C85</td>\n",
       "      <td>C</td>\n",
       "    </tr>\n",
       "    <tr>\n",
       "      <th>2</th>\n",
       "      <td>3</td>\n",
       "      <td>1</td>\n",
       "      <td>3</td>\n",
       "      <td>Heikkinen, Miss. Laina</td>\n",
       "      <td>female</td>\n",
       "      <td>26.0</td>\n",
       "      <td>0</td>\n",
       "      <td>0</td>\n",
       "      <td>STON/O2. 3101282</td>\n",
       "      <td>7.9250</td>\n",
       "      <td>NaN</td>\n",
       "      <td>S</td>\n",
       "    </tr>\n",
       "    <tr>\n",
       "      <th>3</th>\n",
       "      <td>4</td>\n",
       "      <td>1</td>\n",
       "      <td>1</td>\n",
       "      <td>Futrelle, Mrs. Jacques Heath (Lily May Peel)</td>\n",
       "      <td>female</td>\n",
       "      <td>35.0</td>\n",
       "      <td>1</td>\n",
       "      <td>0</td>\n",
       "      <td>113803</td>\n",
       "      <td>53.1000</td>\n",
       "      <td>C123</td>\n",
       "      <td>S</td>\n",
       "    </tr>\n",
       "    <tr>\n",
       "      <th>4</th>\n",
       "      <td>5</td>\n",
       "      <td>0</td>\n",
       "      <td>3</td>\n",
       "      <td>Allen, Mr. William Henry</td>\n",
       "      <td>male</td>\n",
       "      <td>35.0</td>\n",
       "      <td>0</td>\n",
       "      <td>0</td>\n",
       "      <td>373450</td>\n",
       "      <td>8.0500</td>\n",
       "      <td>NaN</td>\n",
       "      <td>S</td>\n",
       "    </tr>\n",
       "  </tbody>\n",
       "</table>\n",
       "</div>"
      ],
      "text/plain": [
       "   PassengerId  Survived  Pclass  \\\n",
       "0            1         0       3   \n",
       "1            2         1       1   \n",
       "2            3         1       3   \n",
       "3            4         1       1   \n",
       "4            5         0       3   \n",
       "\n",
       "                                                Name     Sex   Age  SibSp  \\\n",
       "0                            Braund, Mr. Owen Harris    male  22.0      1   \n",
       "1  Cumings, Mrs. John Bradley (Florence Briggs Th...  female  38.0      1   \n",
       "2                             Heikkinen, Miss. Laina  female  26.0      0   \n",
       "3       Futrelle, Mrs. Jacques Heath (Lily May Peel)  female  35.0      1   \n",
       "4                           Allen, Mr. William Henry    male  35.0      0   \n",
       "\n",
       "   Parch            Ticket     Fare Cabin Embarked  \n",
       "0      0         A/5 21171   7.2500   NaN        S  \n",
       "1      0          PC 17599  71.2833   C85        C  \n",
       "2      0  STON/O2. 3101282   7.9250   NaN        S  \n",
       "3      0            113803  53.1000  C123        S  \n",
       "4      0            373450   8.0500   NaN        S  "
      ]
     },
     "execution_count": 180,
     "metadata": {},
     "output_type": "execute_result"
    }
   ],
   "source": [
    "train_data.head()"
   ]
  },
  {
   "cell_type": "code",
   "execution_count": 181,
   "id": "1b92e965",
   "metadata": {},
   "outputs": [
    {
     "data": {
      "text/html": [
       "<div>\n",
       "<style scoped>\n",
       "    .dataframe tbody tr th:only-of-type {\n",
       "        vertical-align: middle;\n",
       "    }\n",
       "\n",
       "    .dataframe tbody tr th {\n",
       "        vertical-align: top;\n",
       "    }\n",
       "\n",
       "    .dataframe thead th {\n",
       "        text-align: right;\n",
       "    }\n",
       "</style>\n",
       "<table border=\"1\" class=\"dataframe\">\n",
       "  <thead>\n",
       "    <tr style=\"text-align: right;\">\n",
       "      <th></th>\n",
       "      <th>PassengerId</th>\n",
       "      <th>Pclass</th>\n",
       "      <th>Name</th>\n",
       "      <th>Sex</th>\n",
       "      <th>Age</th>\n",
       "      <th>SibSp</th>\n",
       "      <th>Parch</th>\n",
       "      <th>Ticket</th>\n",
       "      <th>Fare</th>\n",
       "      <th>Cabin</th>\n",
       "      <th>Embarked</th>\n",
       "    </tr>\n",
       "  </thead>\n",
       "  <tbody>\n",
       "    <tr>\n",
       "      <th>0</th>\n",
       "      <td>892</td>\n",
       "      <td>3</td>\n",
       "      <td>Kelly, Mr. James</td>\n",
       "      <td>male</td>\n",
       "      <td>34.5</td>\n",
       "      <td>0</td>\n",
       "      <td>0</td>\n",
       "      <td>330911</td>\n",
       "      <td>7.8292</td>\n",
       "      <td>NaN</td>\n",
       "      <td>Q</td>\n",
       "    </tr>\n",
       "    <tr>\n",
       "      <th>1</th>\n",
       "      <td>893</td>\n",
       "      <td>3</td>\n",
       "      <td>Wilkes, Mrs. James (Ellen Needs)</td>\n",
       "      <td>female</td>\n",
       "      <td>47.0</td>\n",
       "      <td>1</td>\n",
       "      <td>0</td>\n",
       "      <td>363272</td>\n",
       "      <td>7.0000</td>\n",
       "      <td>NaN</td>\n",
       "      <td>S</td>\n",
       "    </tr>\n",
       "    <tr>\n",
       "      <th>2</th>\n",
       "      <td>894</td>\n",
       "      <td>2</td>\n",
       "      <td>Myles, Mr. Thomas Francis</td>\n",
       "      <td>male</td>\n",
       "      <td>62.0</td>\n",
       "      <td>0</td>\n",
       "      <td>0</td>\n",
       "      <td>240276</td>\n",
       "      <td>9.6875</td>\n",
       "      <td>NaN</td>\n",
       "      <td>Q</td>\n",
       "    </tr>\n",
       "    <tr>\n",
       "      <th>3</th>\n",
       "      <td>895</td>\n",
       "      <td>3</td>\n",
       "      <td>Wirz, Mr. Albert</td>\n",
       "      <td>male</td>\n",
       "      <td>27.0</td>\n",
       "      <td>0</td>\n",
       "      <td>0</td>\n",
       "      <td>315154</td>\n",
       "      <td>8.6625</td>\n",
       "      <td>NaN</td>\n",
       "      <td>S</td>\n",
       "    </tr>\n",
       "    <tr>\n",
       "      <th>4</th>\n",
       "      <td>896</td>\n",
       "      <td>3</td>\n",
       "      <td>Hirvonen, Mrs. Alexander (Helga E Lindqvist)</td>\n",
       "      <td>female</td>\n",
       "      <td>22.0</td>\n",
       "      <td>1</td>\n",
       "      <td>1</td>\n",
       "      <td>3101298</td>\n",
       "      <td>12.2875</td>\n",
       "      <td>NaN</td>\n",
       "      <td>S</td>\n",
       "    </tr>\n",
       "  </tbody>\n",
       "</table>\n",
       "</div>"
      ],
      "text/plain": [
       "   PassengerId  Pclass                                          Name     Sex  \\\n",
       "0          892       3                              Kelly, Mr. James    male   \n",
       "1          893       3              Wilkes, Mrs. James (Ellen Needs)  female   \n",
       "2          894       2                     Myles, Mr. Thomas Francis    male   \n",
       "3          895       3                              Wirz, Mr. Albert    male   \n",
       "4          896       3  Hirvonen, Mrs. Alexander (Helga E Lindqvist)  female   \n",
       "\n",
       "    Age  SibSp  Parch   Ticket     Fare Cabin Embarked  \n",
       "0  34.5      0      0   330911   7.8292   NaN        Q  \n",
       "1  47.0      1      0   363272   7.0000   NaN        S  \n",
       "2  62.0      0      0   240276   9.6875   NaN        Q  \n",
       "3  27.0      0      0   315154   8.6625   NaN        S  \n",
       "4  22.0      1      1  3101298  12.2875   NaN        S  "
      ]
     },
     "execution_count": 181,
     "metadata": {},
     "output_type": "execute_result"
    }
   ],
   "source": [
    "test_data.head()"
   ]
  },
  {
   "cell_type": "code",
   "execution_count": 182,
   "id": "cc94de23",
   "metadata": {},
   "outputs": [
    {
     "data": {
      "text/html": [
       "<div>\n",
       "<style scoped>\n",
       "    .dataframe tbody tr th:only-of-type {\n",
       "        vertical-align: middle;\n",
       "    }\n",
       "\n",
       "    .dataframe tbody tr th {\n",
       "        vertical-align: top;\n",
       "    }\n",
       "\n",
       "    .dataframe thead th {\n",
       "        text-align: right;\n",
       "    }\n",
       "</style>\n",
       "<table border=\"1\" class=\"dataframe\">\n",
       "  <thead>\n",
       "    <tr style=\"text-align: right;\">\n",
       "      <th></th>\n",
       "      <th>PassengerId</th>\n",
       "      <th>Survived</th>\n",
       "      <th>Pclass</th>\n",
       "      <th>Age</th>\n",
       "      <th>SibSp</th>\n",
       "      <th>Parch</th>\n",
       "      <th>Fare</th>\n",
       "    </tr>\n",
       "  </thead>\n",
       "  <tbody>\n",
       "    <tr>\n",
       "      <th>count</th>\n",
       "      <td>891.000000</td>\n",
       "      <td>891.000000</td>\n",
       "      <td>891.000000</td>\n",
       "      <td>714.000000</td>\n",
       "      <td>891.000000</td>\n",
       "      <td>891.000000</td>\n",
       "      <td>891.000000</td>\n",
       "    </tr>\n",
       "    <tr>\n",
       "      <th>mean</th>\n",
       "      <td>446.000000</td>\n",
       "      <td>0.383838</td>\n",
       "      <td>2.308642</td>\n",
       "      <td>29.699118</td>\n",
       "      <td>0.523008</td>\n",
       "      <td>0.381594</td>\n",
       "      <td>32.204208</td>\n",
       "    </tr>\n",
       "    <tr>\n",
       "      <th>std</th>\n",
       "      <td>257.353842</td>\n",
       "      <td>0.486592</td>\n",
       "      <td>0.836071</td>\n",
       "      <td>14.526497</td>\n",
       "      <td>1.102743</td>\n",
       "      <td>0.806057</td>\n",
       "      <td>49.693429</td>\n",
       "    </tr>\n",
       "    <tr>\n",
       "      <th>min</th>\n",
       "      <td>1.000000</td>\n",
       "      <td>0.000000</td>\n",
       "      <td>1.000000</td>\n",
       "      <td>0.420000</td>\n",
       "      <td>0.000000</td>\n",
       "      <td>0.000000</td>\n",
       "      <td>0.000000</td>\n",
       "    </tr>\n",
       "    <tr>\n",
       "      <th>25%</th>\n",
       "      <td>223.500000</td>\n",
       "      <td>0.000000</td>\n",
       "      <td>2.000000</td>\n",
       "      <td>20.125000</td>\n",
       "      <td>0.000000</td>\n",
       "      <td>0.000000</td>\n",
       "      <td>7.910400</td>\n",
       "    </tr>\n",
       "    <tr>\n",
       "      <th>50%</th>\n",
       "      <td>446.000000</td>\n",
       "      <td>0.000000</td>\n",
       "      <td>3.000000</td>\n",
       "      <td>28.000000</td>\n",
       "      <td>0.000000</td>\n",
       "      <td>0.000000</td>\n",
       "      <td>14.454200</td>\n",
       "    </tr>\n",
       "    <tr>\n",
       "      <th>75%</th>\n",
       "      <td>668.500000</td>\n",
       "      <td>1.000000</td>\n",
       "      <td>3.000000</td>\n",
       "      <td>38.000000</td>\n",
       "      <td>1.000000</td>\n",
       "      <td>0.000000</td>\n",
       "      <td>31.000000</td>\n",
       "    </tr>\n",
       "    <tr>\n",
       "      <th>max</th>\n",
       "      <td>891.000000</td>\n",
       "      <td>1.000000</td>\n",
       "      <td>3.000000</td>\n",
       "      <td>80.000000</td>\n",
       "      <td>8.000000</td>\n",
       "      <td>6.000000</td>\n",
       "      <td>512.329200</td>\n",
       "    </tr>\n",
       "  </tbody>\n",
       "</table>\n",
       "</div>"
      ],
      "text/plain": [
       "       PassengerId    Survived      Pclass         Age       SibSp  \\\n",
       "count   891.000000  891.000000  891.000000  714.000000  891.000000   \n",
       "mean    446.000000    0.383838    2.308642   29.699118    0.523008   \n",
       "std     257.353842    0.486592    0.836071   14.526497    1.102743   \n",
       "min       1.000000    0.000000    1.000000    0.420000    0.000000   \n",
       "25%     223.500000    0.000000    2.000000   20.125000    0.000000   \n",
       "50%     446.000000    0.000000    3.000000   28.000000    0.000000   \n",
       "75%     668.500000    1.000000    3.000000   38.000000    1.000000   \n",
       "max     891.000000    1.000000    3.000000   80.000000    8.000000   \n",
       "\n",
       "            Parch        Fare  \n",
       "count  891.000000  891.000000  \n",
       "mean     0.381594   32.204208  \n",
       "std      0.806057   49.693429  \n",
       "min      0.000000    0.000000  \n",
       "25%      0.000000    7.910400  \n",
       "50%      0.000000   14.454200  \n",
       "75%      0.000000   31.000000  \n",
       "max      6.000000  512.329200  "
      ]
     },
     "execution_count": 182,
     "metadata": {},
     "output_type": "execute_result"
    }
   ],
   "source": [
    "train_data.describe()"
   ]
  },
  {
   "cell_type": "code",
   "execution_count": 183,
   "id": "01820229",
   "metadata": {},
   "outputs": [
    {
     "data": {
      "text/plain": [
       "Index(['PassengerId', 'Survived', 'Pclass', 'Name', 'Sex', 'Age', 'SibSp',\n",
       "       'Parch', 'Ticket', 'Fare', 'Cabin', 'Embarked'],\n",
       "      dtype='object')"
      ]
     },
     "execution_count": 183,
     "metadata": {},
     "output_type": "execute_result"
    }
   ],
   "source": [
    "train_data.columns"
   ]
  },
  {
   "cell_type": "code",
   "execution_count": 184,
   "id": "06b00e9a",
   "metadata": {},
   "outputs": [
    {
     "name": "stdout",
     "output_type": "stream",
     "text": [
      "<class 'pandas.core.frame.DataFrame'>\n",
      "RangeIndex: 891 entries, 0 to 890\n",
      "Data columns (total 12 columns):\n",
      " #   Column       Non-Null Count  Dtype  \n",
      "---  ------       --------------  -----  \n",
      " 0   PassengerId  891 non-null    int64  \n",
      " 1   Survived     891 non-null    int64  \n",
      " 2   Pclass       891 non-null    int64  \n",
      " 3   Name         891 non-null    object \n",
      " 4   Sex          891 non-null    object \n",
      " 5   Age          714 non-null    float64\n",
      " 6   SibSp        891 non-null    int64  \n",
      " 7   Parch        891 non-null    int64  \n",
      " 8   Ticket       891 non-null    object \n",
      " 9   Fare         891 non-null    float64\n",
      " 10  Cabin        204 non-null    object \n",
      " 11  Embarked     889 non-null    object \n",
      "dtypes: float64(2), int64(5), object(5)\n",
      "memory usage: 83.7+ KB\n"
     ]
    }
   ],
   "source": [
    "train_data.info()"
   ]
  },
  {
   "cell_type": "code",
   "execution_count": 185,
   "id": "cb4fd3ca",
   "metadata": {},
   "outputs": [
    {
     "data": {
      "text/plain": [
       "PassengerId      0\n",
       "Survived         0\n",
       "Pclass           0\n",
       "Name             0\n",
       "Sex              0\n",
       "Age            177\n",
       "SibSp            0\n",
       "Parch            0\n",
       "Ticket           0\n",
       "Fare             0\n",
       "Cabin          687\n",
       "Embarked         2\n",
       "dtype: int64"
      ]
     },
     "execution_count": 185,
     "metadata": {},
     "output_type": "execute_result"
    }
   ],
   "source": [
    "train_data.isnull().sum()"
   ]
  },
  {
   "cell_type": "code",
   "execution_count": 186,
   "id": "24ca81ef",
   "metadata": {},
   "outputs": [
    {
     "name": "stdout",
     "output_type": "stream",
     "text": [
      "Toplam Yolcu Sayısı: 891\n"
     ]
    }
   ],
   "source": [
    "print(\"Toplam Yolcu Sayısı:\", len(train_data))"
   ]
  },
  {
   "cell_type": "code",
   "execution_count": 187,
   "id": "2c8b4796",
   "metadata": {},
   "outputs": [
    {
     "name": "stdout",
     "output_type": "stream",
     "text": [
      "Hayatta kalan kişi sayısı: 342\n"
     ]
    }
   ],
   "source": [
    "print(\"Hayatta kalan kişi sayısı:\", train_data[\"Survived\"].sum())"
   ]
  },
  {
   "cell_type": "code",
   "execution_count": 188,
   "id": "ea0afbf7",
   "metadata": {},
   "outputs": [
    {
     "name": "stdout",
     "output_type": "stream",
     "text": [
      "En çok kullanılan liman: S\n"
     ]
    }
   ],
   "source": [
    "print(\"En çok kullanılan liman:\", train_data['Embarked'].value_counts().idxmax())"
   ]
  },
  {
   "cell_type": "code",
   "execution_count": 189,
   "id": "b8dc2694",
   "metadata": {},
   "outputs": [
    {
     "data": {
      "image/png": "[encoded data removed]",
      "text/plain": [
       "<Figure size 600x400 with 1 Axes>"
      ]
     },
     "metadata": {},
     "output_type": "display_data"
    }
   ],
   "source": [
    "plt.figure(figsize=(6,4))\n",
    "sns.countplot(x=\"Sex\", hue=\"Survived\", data=train_data)\n",
    "plt.title(\"Cinsiyete Göre Hayatta Kalma\")\n",
    "plt.xlabel(\"Cinsiyet\")\n",
    "plt.ylabel(\"Yolcu Sayısı\")\n",
    "plt.legend(title=\"Hayatta Kaldı mı\", labels=[\"Hayır (0)\", \"Evet (1)\"])\n",
    "plt.show()"
   ]
  },
  {
   "cell_type": "code",
   "execution_count": 190,
   "id": "1f845e45",
   "metadata": {},
   "outputs": [
    {
     "data": {
      "image/png": "[encoded data removed]",
      "text/plain": [
       "<Figure size 600x400 with 1 Axes>"
      ]
     },
     "metadata": {},
     "output_type": "display_data"
    }
   ],
   "source": [
    "plt.figure(figsize=(6,4))\n",
    "sns.countplot(x=\"Pclass\", hue=\"Survived\", data=train_data)\n",
    "plt.title(\"Yolcu Sınıfına Göre Hayatta Kalma\")\n",
    "plt.xlabel(\"Yolcu Sınıfı\")\n",
    "plt.ylabel(\"Yolcu Sayısı\")\n",
    "plt.legend(title=\"Hayatta Kaldı mı\", labels=[\"Hayır\", \"Evet\"])\n",
    "plt.show()"
   ]
  },
  {
   "cell_type": "code",
   "execution_count": 191,
   "id": "ff0d7737",
   "metadata": {},
   "outputs": [
    {
     "data": {
      "image/png": "[encoded data removed]",
      "text/plain": [
       "<Figure size 800x500 with 1 Axes>"
      ]
     },
     "metadata": {},
     "output_type": "display_data"
    }
   ],
   "source": [
    "plt.figure(figsize=(8,5))\n",
    "sns.histplot(data=train_data, x=\"Age\", hue=\"Survived\", bins=30, kde=False, multiple=\"stack\")\n",
    "plt.title(\"Yaş Dağılımı ve Hayatta Kalma\")\n",
    "plt.xlabel(\"Yaş\")\n",
    "plt.ylabel(\"Yolcu Sayısı\")\n",
    "plt.legend(title=\"Hayatta Kaldı mı\", labels=[\"Hayır\", \"Evet\"])\n",
    "plt.show()"
   ]
  },
  {
   "cell_type": "code",
   "execution_count": 192,
   "id": "b2109e0e",
   "metadata": {},
   "outputs": [
    {
     "data": {
      "image/png": "[encoded data removed]",
      "text/plain": [
       "<Figure size 600x400 with 1 Axes>"
      ]
     },
     "metadata": {},
     "output_type": "display_data"
    }
   ],
   "source": [
    "plt.figure(figsize=(6,4))\n",
    "sns.countplot(x=\"Embarked\", hue=\"Survived\", data=train_data)\n",
    "plt.title(\"Biniş Limanına Göre Hayatta Kalma\")\n",
    "plt.xlabel(\"Liman\")\n",
    "plt.ylabel(\"Yolcu Sayısı\")\n",
    "plt.legend(title=\"Hayatta Kaldı mı\", labels=[\"Hayır\", \"Evet\"])\n",
    "plt.show()"
   ]
  },
  {
   "cell_type": "code",
   "execution_count": 193,
   "id": "21d359d5",
   "metadata": {},
   "outputs": [],
   "source": [
    "train_data[\"Age\"].fillna(train_data[\"Age\"].median(), inplace=True)"
   ]
  },
  {
   "cell_type": "code",
   "execution_count": 194,
   "id": "ecb90f14",
   "metadata": {},
   "outputs": [],
   "source": [
    "train_data[\"Embarked\"].fillna(train_data[\"Embarked\"].mode()[0], inplace=True)"
   ]
  },
  {
   "cell_type": "code",
   "execution_count": 195,
   "id": "fc6585aa",
   "metadata": {},
   "outputs": [],
   "source": [
    "train_data.drop(columns=[\"Cabin\"], inplace=True)"
   ]
  },
  {
   "cell_type": "code",
   "execution_count": 196,
   "id": "8e517178",
   "metadata": {},
   "outputs": [
    {
     "data": {
      "text/plain": [
       "PassengerId    0\n",
       "Survived       0\n",
       "Pclass         0\n",
       "Name           0\n",
       "Sex            0\n",
       "Age            0\n",
       "SibSp          0\n",
       "Parch          0\n",
       "Ticket         0\n",
       "Fare           0\n",
       "Embarked       0\n",
       "dtype: int64"
      ]
     },
     "execution_count": 196,
     "metadata": {},
     "output_type": "execute_result"
    }
   ],
   "source": [
    "train_data.isnull().sum()"
   ]
  },
  {
   "cell_type": "code",
   "execution_count": 197,
   "id": "3152728b",
   "metadata": {},
   "outputs": [],
   "source": [
    "train_data[\"Sex\"] = train_data[\"Sex\"].map({\"male\": 0, \"female\": 1})"
   ]
  },
  {
   "cell_type": "code",
   "execution_count": 198,
   "id": "a15e6667",
   "metadata": {},
   "outputs": [],
   "source": [
    "embarked_mapping = {\"S\": 0, \"C\": 1, \"Q\": 2}\n",
    "train_data[\"Embarked\"] = train_data[\"Embarked\"].map(embarked_mapping)"
   ]
  },
  {
   "cell_type": "code",
   "execution_count": 199,
   "id": "e6ab3b28",
   "metadata": {},
   "outputs": [],
   "source": [
    "train_data.drop(columns=[\"Name\", \"Ticket\", \"PassengerId\"], inplace=True)"
   ]
  },
  {
   "cell_type": "code",
   "execution_count": 200,
   "id": "65485153",
   "metadata": {},
   "outputs": [],
   "source": [
    "X = train_data.drop(\"Survived\", axis=1)\n",
    "y = train_data[\"Survived\"]               "
   ]
  },
  {
   "cell_type": "code",
   "execution_count": 201,
   "id": "c7a7cd75",
   "metadata": {},
   "outputs": [],
   "source": [
    "from sklearn.model_selection import train_test_split\n",
    "\n",
    "X_train, X_test, y_train, y_test = train_test_split(X, y, test_size=0.2, random_state=42)\n"
   ]
  },
  {
   "cell_type": "code",
   "execution_count": 202,
   "id": "718af3d9",
   "metadata": {},
   "outputs": [
    {
     "data": {
      "text/html": [
       "<style>#sk-container-id-6 {color: black;}#sk-container-id-6 pre{padding: 0;}#sk-container-id-6 div.sk-toggleable {background-color: white;}#sk-container-id-6 label.sk-toggleable__label {cursor: pointer;display: block;width: 100%;margin-bottom: 0;padding: 0.3em;box-sizing: border-box;text-align: center;}#sk-container-id-6 label.sk-toggleable__label-arrow:before {content: \"▸\";float: left;margin-right: 0.25em;color: #696969;}#sk-container-id-6 label.sk-toggleable__label-arrow:hover:before {color: black;}#sk-container-id-6 div.sk-estimator:hover label.sk-toggleable__label-arrow:before {color: black;}#sk-container-id-6 div.sk-toggleable__content {max-height: 0;max-width: 0;overflow: hidden;text-align: left;background-color: #f0f8ff;}#sk-container-id-6 div.sk-toggleable__content pre {margin: 0.2em;color: black;border-radius: 0.25em;background-color: #f0f8ff;}#sk-container-id-6 input.sk-toggleable__control:checked~div.sk-toggleable__content {max-height: 200px;max-width: 100%;overflow: auto;}#sk-container-id-6 input.sk-toggleable__control:checked~label.sk-toggleable__label-arrow:before {content: \"▾\";}#sk-container-id-6 div.sk-estimator input.sk-toggleable__control:checked~label.sk-toggleable__label {background-color: #d4ebff;}#sk-container-id-6 div.sk-label input.sk-toggleable__control:checked~label.sk-toggleable__label {background-color: #d4ebff;}#sk-container-id-6 input.sk-hidden--visually {border: 0;clip: rect(1px 1px 1px 1px);clip: rect(1px, 1px, 1px, 1px);height: 1px;margin: -1px;overflow: hidden;padding: 0;position: absolute;width: 1px;}#sk-container-id-6 div.sk-estimator {font-family: monospace;background-color: #f0f8ff;border: 1px dotted black;border-radius: 0.25em;box-sizing: border-box;margin-bottom: 0.5em;}#sk-container-id-6 div.sk-estimator:hover {background-color: #d4ebff;}#sk-container-id-6 div.sk-parallel-item::after {content: \"\";width: 100%;border-bottom: 1px solid gray;flex-grow: 1;}#sk-container-id-6 div.sk-label:hover label.sk-toggleable__label {background-color: #d4ebff;}#sk-container-id-6 div.sk-serial::before {content: \"\";position: absolute;border-left: 1px solid gray;box-sizing: border-box;top: 0;bottom: 0;left: 50%;z-index: 0;}#sk-container-id-6 div.sk-serial {display: flex;flex-direction: column;align-items: center;background-color: white;padding-right: 0.2em;padding-left: 0.2em;position: relative;}#sk-container-id-6 div.sk-item {position: relative;z-index: 1;}#sk-container-id-6 div.sk-parallel {display: flex;align-items: stretch;justify-content: center;background-color: white;position: relative;}#sk-container-id-6 div.sk-item::before, #sk-container-id-6 div.sk-parallel-item::before {content: \"\";position: absolute;border-left: 1px solid gray;box-sizing: border-box;top: 0;bottom: 0;left: 50%;z-index: -1;}#sk-container-id-6 div.sk-parallel-item {display: flex;flex-direction: column;z-index: 1;position: relative;background-color: white;}#sk-container-id-6 div.sk-parallel-item:first-child::after {align-self: flex-end;width: 50%;}#sk-container-id-6 div.sk-parallel-item:last-child::after {align-self: flex-start;width: 50%;}#sk-container-id-6 div.sk-parallel-item:only-child::after {width: 0;}#sk-container-id-6 div.sk-dashed-wrapped {border: 1px dashed gray;margin: 0 0.4em 0.5em 0.4em;box-sizing: border-box;padding-bottom: 0.4em;background-color: white;}#sk-container-id-6 div.sk-label label {font-family: monospace;font-weight: bold;display: inline-block;line-height: 1.2em;}#sk-container-id-6 div.sk-label-container {text-align: center;}#sk-container-id-6 div.sk-container {/* jupyter's `normalize.less` sets `[hidden] { display: none; }` but bootstrap.min.css set `[hidden] { display: none !important; }` so we also need the `!important` here to be able to override the default hidden behavior on the sphinx rendered scikit-learn.org. See: https://github.com/scikit-learn/scikit-learn/issues/21755 */display: inline-block !important;position: relative;}#sk-container-id-6 div.sk-text-repr-fallback {display: none;}</style><div id=\"sk-container-id-6\" class=\"sk-top-container\"><div class=\"sk-text-repr-fallback\"><pre>LogisticRegression(max_iter=200)</pre><b>In a Jupyter environment, please rerun this cell to show the HTML representation or trust the notebook. <br />On GitHub, the HTML representation is unable to render, please try loading this page with nbviewer.org.</b></div><div class=\"sk-container\" hidden><div class=\"sk-item\"><div class=\"sk-estimator sk-toggleable\"><input class=\"sk-toggleable__control sk-hidden--visually\" id=\"sk-estimator-id-6\" type=\"checkbox\" checked><label for=\"sk-estimator-id-6\" class=\"sk-toggleable__label sk-toggleable__label-arrow\">LogisticRegression</label><div class=\"sk-toggleable__content\"><pre>LogisticRegression(max_iter=200)</pre></div></div></div></div></div>"
      ],
      "text/plain": [
       "LogisticRegression(max_iter=200)"
      ]
     },
     "execution_count": 202,
     "metadata": {},
     "output_type": "execute_result"
    }
   ],
   "source": [
    "from sklearn.linear_model import LogisticRegression\n",
    "model = LogisticRegression(max_iter=200)\n",
    "model.fit(X_train, y_train)\n"
   ]
  },
  {
   "cell_type": "code",
   "execution_count": 203,
   "id": "d2d76d91",
   "metadata": {},
   "outputs": [
    {
     "name": "stdout",
     "output_type": "stream",
     "text": [
      "Doğruluk Oranı: 0.7988826815642458\n",
      "\n",
      "Sınıflandırma Raporu:\n",
      "               precision    recall  f1-score   support\n",
      "\n",
      "           0       0.82      0.85      0.83       105\n",
      "           1       0.77      0.73      0.75        74\n",
      "\n",
      "    accuracy                           0.80       179\n",
      "   macro avg       0.79      0.79      0.79       179\n",
      "weighted avg       0.80      0.80      0.80       179\n",
      "\n",
      "\n",
      "Confusion Matrix:\n",
      " [[89 16]\n",
      " [20 54]]\n"
     ]
    }
   ],
   "source": [
    "from sklearn.metrics import accuracy_score, classification_report, confusion_matrix\n",
    "\n",
    "y_pred = model.predict(X_test)\n",
    "\n",
    "print(\"Doğruluk Oranı:\", accuracy_score(y_test, y_pred))\n",
    "print(\"\\nSınıflandırma Raporu:\\n\", classification_report(y_test, y_pred))\n",
    "print(\"\\nConfusion Matrix:\\n\", confusion_matrix(y_test, y_pred))\n"
   ]
  },
  {
   "cell_type": "code",
   "execution_count": 204,
   "id": "b556a156",
   "metadata": {},
   "outputs": [
    {
     "data": {
      "text/plain": [
       "PassengerId      0\n",
       "Pclass           0\n",
       "Name             0\n",
       "Sex              0\n",
       "Age             86\n",
       "SibSp            0\n",
       "Parch            0\n",
       "Ticket           0\n",
       "Fare             1\n",
       "Cabin          327\n",
       "Embarked         0\n",
       "dtype: int64"
      ]
     },
     "execution_count": 204,
     "metadata": {},
     "output_type": "execute_result"
    }
   ],
   "source": [
    "test_data.isnull().sum()"
   ]
  },
  {
   "cell_type": "code",
   "execution_count": 205,
   "id": "85f4886b",
   "metadata": {},
   "outputs": [],
   "source": [
    "test_data[\"Age\"].fillna(test_data[\"Age\"].median(), inplace=True)"
   ]
  },
  {
   "cell_type": "code",
   "execution_count": 206,
   "id": "f7acaa1b",
   "metadata": {},
   "outputs": [],
   "source": [
    "test_data[\"Fare\"].fillna(test_data[\"Fare\"].mode()[0], inplace=True)"
   ]
  },
  {
   "cell_type": "code",
   "execution_count": 207,
   "id": "ea9db5f4",
   "metadata": {},
   "outputs": [
    {
     "data": {
      "text/plain": [
       "PassengerId      0\n",
       "Pclass           0\n",
       "Name             0\n",
       "Sex              0\n",
       "Age              0\n",
       "SibSp            0\n",
       "Parch            0\n",
       "Ticket           0\n",
       "Fare             0\n",
       "Cabin          327\n",
       "Embarked         0\n",
       "dtype: int64"
      ]
     },
     "execution_count": 207,
     "metadata": {},
     "output_type": "execute_result"
    }
   ],
   "source": [
    "test_data.isnull().sum()"
   ]
  },
  {
   "cell_type": "code",
   "execution_count": 208,
   "id": "bd8ad299",
   "metadata": {},
   "outputs": [],
   "source": [
    "test_data[\"Sex\"] = test_data[\"Sex\"].map({\"male\": 0, \"female\": 1})"
   ]
  },
  {
   "cell_type": "code",
   "execution_count": 209,
   "id": "d4999358",
   "metadata": {},
   "outputs": [],
   "source": [
    "embarked_mapping = {\"S\": 0, \"C\": 1, \"Q\": 2}\n",
    "test_data[\"Embarked\"] = test_data[\"Embarked\"].map(embarked_mapping)"
   ]
  },
  {
   "cell_type": "code",
   "execution_count": 210,
   "id": "8a17d2bf",
   "metadata": {},
   "outputs": [],
   "source": [
    "test_clean = test_data.drop(columns=[\"Name\", \"Ticket\", \"Cabin\"], errors=\"ignore\")"
   ]
  },
  {
   "cell_type": "code",
   "execution_count": 211,
   "id": "70303f29",
   "metadata": {},
   "outputs": [],
   "source": [
    "# Önceden eğitilmiş modelle test verisinde tahmin yap\n",
    "X_test = test_clean.drop(columns=[\"PassengerId\"])\n",
    "test_predictions = model.predict(X_test)\n",
    "\n",
    "# Sonuçları bir DataFrame olarak düzenle\n",
    "submission = pd.DataFrame({\n",
    "    \"PassengerId\": test_clean[\"PassengerId\"],\n",
    "    \"Survived\": test_predictions\n",
    "})\n",
    "\n",
    "# CSV olarak kaydet (Kaggle'a yüklemek için)\n",
    "submission.to_csv(\"submission.csv\", index=False)\n"
   ]
  },
  {
   "cell_type": "code",
   "execution_count": 214,
   "id": "3d3b1536",
   "metadata": {},
   "outputs": [
    {
     "data": {
      "text/html": [
       "<div>\n",
       "<style scoped>\n",
       "    .dataframe tbody tr th:only-of-type {\n",
       "        vertical-align: middle;\n",
       "    }\n",
       "\n",
       "    .dataframe tbody tr th {\n",
       "        vertical-align: top;\n",
       "    }\n",
       "\n",
       "    .dataframe thead th {\n",
       "        text-align: right;\n",
       "    }\n",
       "</style>\n",
       "<table border=\"1\" class=\"dataframe\">\n",
       "  <thead>\n",
       "    <tr style=\"text-align: right;\">\n",
       "      <th></th>\n",
       "      <th>PassengerId</th>\n",
       "      <th>Survived</th>\n",
       "    </tr>\n",
       "  </thead>\n",
       "  <tbody>\n",
       "    <tr>\n",
       "      <th>0</th>\n",
       "      <td>892</td>\n",
       "      <td>0</td>\n",
       "    </tr>\n",
       "    <tr>\n",
       "      <th>1</th>\n",
       "      <td>893</td>\n",
       "      <td>0</td>\n",
       "    </tr>\n",
       "    <tr>\n",
       "      <th>2</th>\n",
       "      <td>894</td>\n",
       "      <td>0</td>\n",
       "    </tr>\n",
       "    <tr>\n",
       "      <th>3</th>\n",
       "      <td>895</td>\n",
       "      <td>0</td>\n",
       "    </tr>\n",
       "    <tr>\n",
       "      <th>4</th>\n",
       "      <td>896</td>\n",
       "      <td>1</td>\n",
       "    </tr>\n",
       "    <tr>\n",
       "      <th>5</th>\n",
       "      <td>897</td>\n",
       "      <td>0</td>\n",
       "    </tr>\n",
       "    <tr>\n",
       "      <th>6</th>\n",
       "      <td>898</td>\n",
       "      <td>1</td>\n",
       "    </tr>\n",
       "    <tr>\n",
       "      <th>7</th>\n",
       "      <td>899</td>\n",
       "      <td>0</td>\n",
       "    </tr>\n",
       "    <tr>\n",
       "      <th>8</th>\n",
       "      <td>900</td>\n",
       "      <td>1</td>\n",
       "    </tr>\n",
       "    <tr>\n",
       "      <th>9</th>\n",
       "      <td>901</td>\n",
       "      <td>0</td>\n",
       "    </tr>\n",
       "  </tbody>\n",
       "</table>\n",
       "</div>"
      ],
      "text/plain": [
       "   PassengerId  Survived\n",
       "0          892         0\n",
       "1          893         0\n",
       "2          894         0\n",
       "3          895         0\n",
       "4          896         1\n",
       "5          897         0\n",
       "6          898         1\n",
       "7          899         0\n",
       "8          900         1\n",
       "9          901         0"
      ]
     },
     "execution_count": 214,
     "metadata": {},
     "output_type": "execute_result"
    }
   ],
   "source": [
    "submission.head(10) # İlk 10 tahmini göster"
   ]
  },
  {
   "cell_type": "code",
   "execution_count": 215,
   "id": "90e9fbe8",
   "metadata": {},
   "outputs": [
    {
     "name": "stdout",
     "output_type": "stream",
     "text": [
      "Kurtulanlar: 156\n",
      "Kurtulamayanlar: 262\n"
     ]
    }
   ],
   "source": [
    "print(\"Kurtulanlar:\", submission['Survived'].sum())\n",
    "print(\"Kurtulamayanlar:\", len(submission) - submission['Survived'].sum())"
   ]
  },
  {
   "cell_type": "code",
   "execution_count": 216,
   "id": "f3897003",
   "metadata": {},
   "outputs": [
    {
     "name": "stdout",
     "output_type": "stream",
     "text": [
      "Yolcu ID: 892 - Kurtulamadı\n",
      "Yolcu ID: 893 - Kurtulamadı\n",
      "Yolcu ID: 894 - Kurtulamadı\n",
      "Yolcu ID: 895 - Kurtulamadı\n",
      "Yolcu ID: 896 - Kurtuldu\n",
      "Yolcu ID: 897 - Kurtulamadı\n",
      "Yolcu ID: 898 - Kurtuldu\n",
      "Yolcu ID: 899 - Kurtulamadı\n",
      "Yolcu ID: 900 - Kurtuldu\n",
      "Yolcu ID: 901 - Kurtulamadı\n",
      "Yolcu ID: 902 - Kurtulamadı\n",
      "Yolcu ID: 903 - Kurtulamadı\n",
      "Yolcu ID: 904 - Kurtuldu\n",
      "Yolcu ID: 905 - Kurtulamadı\n",
      "Yolcu ID: 906 - Kurtuldu\n",
      "Yolcu ID: 907 - Kurtuldu\n",
      "Yolcu ID: 908 - Kurtulamadı\n",
      "Yolcu ID: 909 - Kurtulamadı\n",
      "Yolcu ID: 910 - Kurtuldu\n",
      "Yolcu ID: 911 - Kurtuldu\n",
      "Yolcu ID: 912 - Kurtulamadı\n",
      "Yolcu ID: 913 - Kurtulamadı\n",
      "Yolcu ID: 914 - Kurtuldu\n",
      "Yolcu ID: 915 - Kurtuldu\n",
      "Yolcu ID: 916 - Kurtuldu\n",
      "Yolcu ID: 917 - Kurtulamadı\n",
      "Yolcu ID: 918 - Kurtuldu\n",
      "Yolcu ID: 919 - Kurtulamadı\n",
      "Yolcu ID: 920 - Kurtulamadı\n",
      "Yolcu ID: 921 - Kurtulamadı\n",
      "Yolcu ID: 922 - Kurtulamadı\n",
      "Yolcu ID: 923 - Kurtulamadı\n",
      "Yolcu ID: 924 - Kurtulamadı\n",
      "Yolcu ID: 925 - Kurtuldu\n",
      "Yolcu ID: 926 - Kurtulamadı\n",
      "Yolcu ID: 927 - Kurtulamadı\n",
      "Yolcu ID: 928 - Kurtuldu\n",
      "Yolcu ID: 929 - Kurtuldu\n",
      "Yolcu ID: 930 - Kurtulamadı\n",
      "Yolcu ID: 931 - Kurtulamadı\n",
      "Yolcu ID: 932 - Kurtulamadı\n",
      "Yolcu ID: 933 - Kurtulamadı\n",
      "Yolcu ID: 934 - Kurtulamadı\n",
      "Yolcu ID: 935 - Kurtuldu\n",
      "Yolcu ID: 936 - Kurtuldu\n",
      "Yolcu ID: 937 - Kurtulamadı\n",
      "Yolcu ID: 938 - Kurtulamadı\n",
      "Yolcu ID: 939 - Kurtulamadı\n",
      "Yolcu ID: 940 - Kurtuldu\n",
      "Yolcu ID: 941 - Kurtuldu\n",
      "Yolcu ID: 942 - Kurtulamadı\n",
      "Yolcu ID: 943 - Kurtulamadı\n",
      "Yolcu ID: 944 - Kurtuldu\n",
      "Yolcu ID: 945 - Kurtuldu\n",
      "Yolcu ID: 946 - Kurtulamadı\n",
      "Yolcu ID: 947 - Kurtulamadı\n",
      "Yolcu ID: 948 - Kurtulamadı\n",
      "Yolcu ID: 949 - Kurtulamadı\n",
      "Yolcu ID: 950 - Kurtulamadı\n",
      "Yolcu ID: 951 - Kurtuldu\n",
      "Yolcu ID: 952 - Kurtulamadı\n",
      "Yolcu ID: 953 - Kurtulamadı\n",
      "Yolcu ID: 954 - Kurtulamadı\n",
      "Yolcu ID: 955 - Kurtuldu\n",
      "Yolcu ID: 956 - Kurtuldu\n",
      "Yolcu ID: 957 - Kurtuldu\n",
      "Yolcu ID: 958 - Kurtuldu\n",
      "Yolcu ID: 959 - Kurtulamadı\n",
      "Yolcu ID: 960 - Kurtuldu\n",
      "Yolcu ID: 961 - Kurtuldu\n",
      "Yolcu ID: 962 - Kurtuldu\n",
      "Yolcu ID: 963 - Kurtulamadı\n",
      "Yolcu ID: 964 - Kurtuldu\n",
      "Yolcu ID: 965 - Kurtuldu\n",
      "Yolcu ID: 966 - Kurtuldu\n",
      "Yolcu ID: 967 - Kurtuldu\n",
      "Yolcu ID: 968 - Kurtulamadı\n",
      "Yolcu ID: 969 - Kurtuldu\n",
      "Yolcu ID: 970 - Kurtulamadı\n",
      "Yolcu ID: 971 - Kurtuldu\n",
      "Yolcu ID: 972 - Kurtulamadı\n",
      "Yolcu ID: 973 - Kurtulamadı\n",
      "Yolcu ID: 974 - Kurtulamadı\n",
      "Yolcu ID: 975 - Kurtulamadı\n",
      "Yolcu ID: 976 - Kurtulamadı\n",
      "Yolcu ID: 977 - Kurtulamadı\n",
      "Yolcu ID: 978 - Kurtuldu\n",
      "Yolcu ID: 979 - Kurtuldu\n",
      "Yolcu ID: 980 - Kurtuldu\n",
      "Yolcu ID: 981 - Kurtulamadı\n",
      "Yolcu ID: 982 - Kurtuldu\n",
      "Yolcu ID: 983 - Kurtulamadı\n",
      "Yolcu ID: 984 - Kurtuldu\n",
      "Yolcu ID: 985 - Kurtulamadı\n",
      "Yolcu ID: 986 - Kurtuldu\n",
      "Yolcu ID: 987 - Kurtulamadı\n",
      "Yolcu ID: 988 - Kurtuldu\n",
      "Yolcu ID: 989 - Kurtulamadı\n",
      "Yolcu ID: 990 - Kurtuldu\n",
      "Yolcu ID: 991 - Kurtulamadı\n",
      "Yolcu ID: 992 - Kurtuldu\n",
      "Yolcu ID: 993 - Kurtulamadı\n",
      "Yolcu ID: 994 - Kurtulamadı\n",
      "Yolcu ID: 995 - Kurtulamadı\n",
      "Yolcu ID: 996 - Kurtuldu\n",
      "Yolcu ID: 997 - Kurtulamadı\n",
      "Yolcu ID: 998 - Kurtulamadı\n",
      "Yolcu ID: 999 - Kurtulamadı\n",
      "Yolcu ID: 1000 - Kurtulamadı\n",
      "Yolcu ID: 1001 - Kurtulamadı\n",
      "Yolcu ID: 1002 - Kurtulamadı\n",
      "Yolcu ID: 1003 - Kurtuldu\n",
      "Yolcu ID: 1004 - Kurtuldu\n",
      "Yolcu ID: 1005 - Kurtuldu\n",
      "Yolcu ID: 1006 - Kurtuldu\n",
      "Yolcu ID: 1007 - Kurtulamadı\n",
      "Yolcu ID: 1008 - Kurtulamadı\n",
      "Yolcu ID: 1009 - Kurtuldu\n",
      "Yolcu ID: 1010 - Kurtulamadı\n",
      "Yolcu ID: 1011 - Kurtuldu\n",
      "Yolcu ID: 1012 - Kurtuldu\n",
      "Yolcu ID: 1013 - Kurtulamadı\n",
      "Yolcu ID: 1014 - Kurtuldu\n",
      "Yolcu ID: 1015 - Kurtulamadı\n",
      "Yolcu ID: 1016 - Kurtulamadı\n",
      "Yolcu ID: 1017 - Kurtuldu\n",
      "Yolcu ID: 1018 - Kurtulamadı\n",
      "Yolcu ID: 1019 - Kurtuldu\n",
      "Yolcu ID: 1020 - Kurtulamadı\n",
      "Yolcu ID: 1021 - Kurtulamadı\n",
      "Yolcu ID: 1022 - Kurtulamadı\n",
      "Yolcu ID: 1023 - Kurtulamadı\n",
      "Yolcu ID: 1024 - Kurtuldu\n",
      "Yolcu ID: 1025 - Kurtulamadı\n",
      "Yolcu ID: 1026 - Kurtulamadı\n",
      "Yolcu ID: 1027 - Kurtulamadı\n",
      "Yolcu ID: 1028 - Kurtulamadı\n",
      "Yolcu ID: 1029 - Kurtulamadı\n",
      "Yolcu ID: 1030 - Kurtuldu\n",
      "Yolcu ID: 1031 - Kurtulamadı\n",
      "Yolcu ID: 1032 - Kurtulamadı\n",
      "Yolcu ID: 1033 - Kurtuldu\n",
      "Yolcu ID: 1034 - Kurtulamadı\n",
      "Yolcu ID: 1035 - Kurtulamadı\n",
      "Yolcu ID: 1036 - Kurtulamadı\n",
      "Yolcu ID: 1037 - Kurtulamadı\n",
      "Yolcu ID: 1038 - Kurtulamadı\n",
      "Yolcu ID: 1039 - Kurtulamadı\n",
      "Yolcu ID: 1040 - Kurtulamadı\n",
      "Yolcu ID: 1041 - Kurtulamadı\n",
      "Yolcu ID: 1042 - Kurtuldu\n",
      "Yolcu ID: 1043 - Kurtulamadı\n",
      "Yolcu ID: 1044 - Kurtulamadı\n",
      "Yolcu ID: 1045 - Kurtuldu\n",
      "Yolcu ID: 1046 - Kurtulamadı\n",
      "Yolcu ID: 1047 - Kurtulamadı\n",
      "Yolcu ID: 1048 - Kurtuldu\n",
      "Yolcu ID: 1049 - Kurtuldu\n",
      "Yolcu ID: 1050 - Kurtulamadı\n",
      "Yolcu ID: 1051 - Kurtuldu\n",
      "Yolcu ID: 1052 - Kurtuldu\n",
      "Yolcu ID: 1053 - Kurtulamadı\n",
      "Yolcu ID: 1054 - Kurtuldu\n",
      "Yolcu ID: 1055 - Kurtulamadı\n",
      "Yolcu ID: 1056 - Kurtulamadı\n",
      "Yolcu ID: 1057 - Kurtuldu\n",
      "Yolcu ID: 1058 - Kurtulamadı\n",
      "Yolcu ID: 1059 - Kurtulamadı\n",
      "Yolcu ID: 1060 - Kurtuldu\n",
      "Yolcu ID: 1061 - Kurtuldu\n",
      "Yolcu ID: 1062 - Kurtulamadı\n",
      "Yolcu ID: 1063 - Kurtulamadı\n",
      "Yolcu ID: 1064 - Kurtulamadı\n",
      "Yolcu ID: 1065 - Kurtulamadı\n",
      "Yolcu ID: 1066 - Kurtulamadı\n",
      "Yolcu ID: 1067 - Kurtuldu\n",
      "Yolcu ID: 1068 - Kurtuldu\n",
      "Yolcu ID: 1069 - Kurtulamadı\n",
      "Yolcu ID: 1070 - Kurtuldu\n",
      "Yolcu ID: 1071 - Kurtuldu\n",
      "Yolcu ID: 1072 - Kurtulamadı\n",
      "Yolcu ID: 1073 - Kurtulamadı\n",
      "Yolcu ID: 1074 - Kurtuldu\n",
      "Yolcu ID: 1075 - Kurtulamadı\n",
      "Yolcu ID: 1076 - Kurtuldu\n",
      "Yolcu ID: 1077 - Kurtulamadı\n",
      "Yolcu ID: 1078 - Kurtuldu\n",
      "Yolcu ID: 1079 - Kurtulamadı\n",
      "Yolcu ID: 1080 - Kurtulamadı\n",
      "Yolcu ID: 1081 - Kurtulamadı\n",
      "Yolcu ID: 1082 - Kurtulamadı\n",
      "Yolcu ID: 1083 - Kurtulamadı\n",
      "Yolcu ID: 1084 - Kurtulamadı\n",
      "Yolcu ID: 1085 - Kurtulamadı\n",
      "Yolcu ID: 1086 - Kurtulamadı\n",
      "Yolcu ID: 1087 - Kurtulamadı\n",
      "Yolcu ID: 1088 - Kurtuldu\n",
      "Yolcu ID: 1089 - Kurtuldu\n",
      "Yolcu ID: 1090 - Kurtulamadı\n",
      "Yolcu ID: 1091 - Kurtuldu\n",
      "Yolcu ID: 1092 - Kurtuldu\n",
      "Yolcu ID: 1093 - Kurtulamadı\n",
      "Yolcu ID: 1094 - Kurtulamadı\n",
      "Yolcu ID: 1095 - Kurtuldu\n",
      "Yolcu ID: 1096 - Kurtulamadı\n",
      "Yolcu ID: 1097 - Kurtuldu\n",
      "Yolcu ID: 1098 - Kurtuldu\n",
      "Yolcu ID: 1099 - Kurtulamadı\n",
      "Yolcu ID: 1100 - Kurtuldu\n",
      "Yolcu ID: 1101 - Kurtulamadı\n",
      "Yolcu ID: 1102 - Kurtulamadı\n",
      "Yolcu ID: 1103 - Kurtulamadı\n",
      "Yolcu ID: 1104 - Kurtulamadı\n",
      "Yolcu ID: 1105 - Kurtuldu\n",
      "Yolcu ID: 1106 - Kurtulamadı\n",
      "Yolcu ID: 1107 - Kurtulamadı\n",
      "Yolcu ID: 1108 - Kurtuldu\n",
      "Yolcu ID: 1109 - Kurtulamadı\n",
      "Yolcu ID: 1110 - Kurtuldu\n",
      "Yolcu ID: 1111 - Kurtulamadı\n",
      "Yolcu ID: 1112 - Kurtuldu\n",
      "Yolcu ID: 1113 - Kurtulamadı\n",
      "Yolcu ID: 1114 - Kurtuldu\n",
      "Yolcu ID: 1115 - Kurtulamadı\n",
      "Yolcu ID: 1116 - Kurtuldu\n",
      "Yolcu ID: 1117 - Kurtuldu\n",
      "Yolcu ID: 1118 - Kurtulamadı\n",
      "Yolcu ID: 1119 - Kurtuldu\n",
      "Yolcu ID: 1120 - Kurtulamadı\n",
      "Yolcu ID: 1121 - Kurtulamadı\n",
      "Yolcu ID: 1122 - Kurtulamadı\n",
      "Yolcu ID: 1123 - Kurtuldu\n",
      "Yolcu ID: 1124 - Kurtulamadı\n",
      "Yolcu ID: 1125 - Kurtulamadı\n",
      "Yolcu ID: 1126 - Kurtulamadı\n",
      "Yolcu ID: 1127 - Kurtulamadı\n",
      "Yolcu ID: 1128 - Kurtulamadı\n",
      "Yolcu ID: 1129 - Kurtulamadı\n",
      "Yolcu ID: 1130 - Kurtuldu\n",
      "Yolcu ID: 1131 - Kurtuldu\n",
      "Yolcu ID: 1132 - Kurtuldu\n",
      "Yolcu ID: 1133 - Kurtuldu\n",
      "Yolcu ID: 1134 - Kurtulamadı\n",
      "Yolcu ID: 1135 - Kurtulamadı\n",
      "Yolcu ID: 1136 - Kurtulamadı\n",
      "Yolcu ID: 1137 - Kurtulamadı\n",
      "Yolcu ID: 1138 - Kurtuldu\n",
      "Yolcu ID: 1139 - Kurtulamadı\n",
      "Yolcu ID: 1140 - Kurtuldu\n",
      "Yolcu ID: 1141 - Kurtuldu\n",
      "Yolcu ID: 1142 - Kurtuldu\n",
      "Yolcu ID: 1143 - Kurtulamadı\n",
      "Yolcu ID: 1144 - Kurtuldu\n",
      "Yolcu ID: 1145 - Kurtulamadı\n",
      "Yolcu ID: 1146 - Kurtulamadı\n",
      "Yolcu ID: 1147 - Kurtulamadı\n",
      "Yolcu ID: 1148 - Kurtulamadı\n",
      "Yolcu ID: 1149 - Kurtulamadı\n",
      "Yolcu ID: 1150 - Kurtuldu\n",
      "Yolcu ID: 1151 - Kurtulamadı\n",
      "Yolcu ID: 1152 - Kurtulamadı\n",
      "Yolcu ID: 1153 - Kurtulamadı\n",
      "Yolcu ID: 1154 - Kurtuldu\n",
      "Yolcu ID: 1155 - Kurtuldu\n",
      "Yolcu ID: 1156 - Kurtulamadı\n",
      "Yolcu ID: 1157 - Kurtulamadı\n",
      "Yolcu ID: 1158 - Kurtulamadı\n",
      "Yolcu ID: 1159 - Kurtulamadı\n",
      "Yolcu ID: 1160 - Kurtuldu\n",
      "Yolcu ID: 1161 - Kurtulamadı\n",
      "Yolcu ID: 1162 - Kurtulamadı\n",
      "Yolcu ID: 1163 - Kurtulamadı\n",
      "Yolcu ID: 1164 - Kurtuldu\n",
      "Yolcu ID: 1165 - Kurtuldu\n",
      "Yolcu ID: 1166 - Kurtulamadı\n",
      "Yolcu ID: 1167 - Kurtuldu\n",
      "Yolcu ID: 1168 - Kurtulamadı\n",
      "Yolcu ID: 1169 - Kurtulamadı\n",
      "Yolcu ID: 1170 - Kurtulamadı\n",
      "Yolcu ID: 1171 - Kurtulamadı\n",
      "Yolcu ID: 1172 - Kurtuldu\n",
      "Yolcu ID: 1173 - Kurtulamadı\n",
      "Yolcu ID: 1174 - Kurtuldu\n",
      "Yolcu ID: 1175 - Kurtuldu\n",
      "Yolcu ID: 1176 - Kurtuldu\n",
      "Yolcu ID: 1177 - Kurtulamadı\n",
      "Yolcu ID: 1178 - Kurtulamadı\n",
      "Yolcu ID: 1179 - Kurtulamadı\n",
      "Yolcu ID: 1180 - Kurtulamadı\n",
      "Yolcu ID: 1181 - Kurtulamadı\n",
      "Yolcu ID: 1182 - Kurtulamadı\n",
      "Yolcu ID: 1183 - Kurtuldu\n",
      "Yolcu ID: 1184 - Kurtulamadı\n",
      "Yolcu ID: 1185 - Kurtulamadı\n",
      "Yolcu ID: 1186 - Kurtulamadı\n",
      "Yolcu ID: 1187 - Kurtulamadı\n",
      "Yolcu ID: 1188 - Kurtuldu\n",
      "Yolcu ID: 1189 - Kurtulamadı\n",
      "Yolcu ID: 1190 - Kurtulamadı\n",
      "Yolcu ID: 1191 - Kurtulamadı\n",
      "Yolcu ID: 1192 - Kurtulamadı\n",
      "Yolcu ID: 1193 - Kurtulamadı\n",
      "Yolcu ID: 1194 - Kurtulamadı\n",
      "Yolcu ID: 1195 - Kurtulamadı\n",
      "Yolcu ID: 1196 - Kurtuldu\n",
      "Yolcu ID: 1197 - Kurtuldu\n",
      "Yolcu ID: 1198 - Kurtulamadı\n",
      "Yolcu ID: 1199 - Kurtulamadı\n",
      "Yolcu ID: 1200 - Kurtulamadı\n",
      "Yolcu ID: 1201 - Kurtulamadı\n",
      "Yolcu ID: 1202 - Kurtulamadı\n",
      "Yolcu ID: 1203 - Kurtulamadı\n",
      "Yolcu ID: 1204 - Kurtulamadı\n",
      "Yolcu ID: 1205 - Kurtuldu\n",
      "Yolcu ID: 1206 - Kurtuldu\n",
      "Yolcu ID: 1207 - Kurtuldu\n",
      "Yolcu ID: 1208 - Kurtulamadı\n",
      "Yolcu ID: 1209 - Kurtulamadı\n",
      "Yolcu ID: 1210 - Kurtulamadı\n",
      "Yolcu ID: 1211 - Kurtulamadı\n",
      "Yolcu ID: 1212 - Kurtulamadı\n",
      "Yolcu ID: 1213 - Kurtulamadı\n",
      "Yolcu ID: 1214 - Kurtulamadı\n",
      "Yolcu ID: 1215 - Kurtulamadı\n",
      "Yolcu ID: 1216 - Kurtuldu\n",
      "Yolcu ID: 1217 - Kurtulamadı\n",
      "Yolcu ID: 1218 - Kurtuldu\n",
      "Yolcu ID: 1219 - Kurtulamadı\n",
      "Yolcu ID: 1220 - Kurtulamadı\n",
      "Yolcu ID: 1221 - Kurtulamadı\n",
      "Yolcu ID: 1222 - Kurtuldu\n",
      "Yolcu ID: 1223 - Kurtulamadı\n",
      "Yolcu ID: 1224 - Kurtulamadı\n",
      "Yolcu ID: 1225 - Kurtuldu\n",
      "Yolcu ID: 1226 - Kurtulamadı\n",
      "Yolcu ID: 1227 - Kurtulamadı\n",
      "Yolcu ID: 1228 - Kurtulamadı\n",
      "Yolcu ID: 1229 - Kurtulamadı\n",
      "Yolcu ID: 1230 - Kurtulamadı\n",
      "Yolcu ID: 1231 - Kurtulamadı\n",
      "Yolcu ID: 1232 - Kurtulamadı\n",
      "Yolcu ID: 1233 - Kurtulamadı\n",
      "Yolcu ID: 1234 - Kurtulamadı\n",
      "Yolcu ID: 1235 - Kurtuldu\n",
      "Yolcu ID: 1236 - Kurtulamadı\n",
      "Yolcu ID: 1237 - Kurtuldu\n",
      "Yolcu ID: 1238 - Kurtulamadı\n",
      "Yolcu ID: 1239 - Kurtuldu\n",
      "Yolcu ID: 1240 - Kurtulamadı\n",
      "Yolcu ID: 1241 - Kurtuldu\n",
      "Yolcu ID: 1242 - Kurtuldu\n",
      "Yolcu ID: 1243 - Kurtulamadı\n",
      "Yolcu ID: 1244 - Kurtulamadı\n",
      "Yolcu ID: 1245 - Kurtulamadı\n",
      "Yolcu ID: 1246 - Kurtuldu\n",
      "Yolcu ID: 1247 - Kurtulamadı\n",
      "Yolcu ID: 1248 - Kurtuldu\n",
      "Yolcu ID: 1249 - Kurtulamadı\n",
      "Yolcu ID: 1250 - Kurtulamadı\n",
      "Yolcu ID: 1251 - Kurtuldu\n",
      "Yolcu ID: 1252 - Kurtulamadı\n",
      "Yolcu ID: 1253 - Kurtuldu\n",
      "Yolcu ID: 1254 - Kurtuldu\n",
      "Yolcu ID: 1255 - Kurtulamadı\n",
      "Yolcu ID: 1256 - Kurtuldu\n",
      "Yolcu ID: 1257 - Kurtulamadı\n",
      "Yolcu ID: 1258 - Kurtulamadı\n",
      "Yolcu ID: 1259 - Kurtuldu\n",
      "Yolcu ID: 1260 - Kurtuldu\n",
      "Yolcu ID: 1261 - Kurtulamadı\n",
      "Yolcu ID: 1262 - Kurtulamadı\n",
      "Yolcu ID: 1263 - Kurtuldu\n",
      "Yolcu ID: 1264 - Kurtulamadı\n",
      "Yolcu ID: 1265 - Kurtulamadı\n",
      "Yolcu ID: 1266 - Kurtuldu\n",
      "Yolcu ID: 1267 - Kurtuldu\n",
      "Yolcu ID: 1268 - Kurtuldu\n",
      "Yolcu ID: 1269 - Kurtulamadı\n",
      "Yolcu ID: 1270 - Kurtulamadı\n",
      "Yolcu ID: 1271 - Kurtulamadı\n",
      "Yolcu ID: 1272 - Kurtulamadı\n",
      "Yolcu ID: 1273 - Kurtulamadı\n",
      "Yolcu ID: 1274 - Kurtuldu\n",
      "Yolcu ID: 1275 - Kurtuldu\n",
      "Yolcu ID: 1276 - Kurtulamadı\n",
      "Yolcu ID: 1277 - Kurtuldu\n",
      "Yolcu ID: 1278 - Kurtulamadı\n",
      "Yolcu ID: 1279 - Kurtulamadı\n",
      "Yolcu ID: 1280 - Kurtulamadı\n",
      "Yolcu ID: 1281 - Kurtulamadı\n",
      "Yolcu ID: 1282 - Kurtuldu\n",
      "Yolcu ID: 1283 - Kurtuldu\n",
      "Yolcu ID: 1284 - Kurtulamadı\n",
      "Yolcu ID: 1285 - Kurtulamadı\n",
      "Yolcu ID: 1286 - Kurtulamadı\n",
      "Yolcu ID: 1287 - Kurtuldu\n",
      "Yolcu ID: 1288 - Kurtulamadı\n",
      "Yolcu ID: 1289 - Kurtuldu\n",
      "Yolcu ID: 1290 - Kurtulamadı\n",
      "Yolcu ID: 1291 - Kurtulamadı\n",
      "Yolcu ID: 1292 - Kurtuldu\n",
      "Yolcu ID: 1293 - Kurtulamadı\n",
      "Yolcu ID: 1294 - Kurtuldu\n",
      "Yolcu ID: 1295 - Kurtuldu\n",
      "Yolcu ID: 1296 - Kurtulamadı\n",
      "Yolcu ID: 1297 - Kurtulamadı\n",
      "Yolcu ID: 1298 - Kurtulamadı\n",
      "Yolcu ID: 1299 - Kurtulamadı\n",
      "Yolcu ID: 1300 - Kurtuldu\n",
      "Yolcu ID: 1301 - Kurtuldu\n",
      "Yolcu ID: 1302 - Kurtuldu\n",
      "Yolcu ID: 1303 - Kurtuldu\n",
      "Yolcu ID: 1304 - Kurtuldu\n",
      "Yolcu ID: 1305 - Kurtulamadı\n",
      "Yolcu ID: 1306 - Kurtuldu\n",
      "Yolcu ID: 1307 - Kurtulamadı\n",
      "Yolcu ID: 1308 - Kurtulamadı\n",
      "Yolcu ID: 1309 - Kurtulamadı\n"
     ]
    }
   ],
   "source": [
    "for index, row in submission.iterrows():\n",
    "    durum = \"Kurtuldu\" if row[\"Survived\"] == 1 else \"Kurtulamadı\"\n",
    "    print(f\"Yolcu ID: {row['PassengerId']} - {durum}\")"
   ]
  },
  {
   "cell_type": "code",
   "execution_count": null,
   "id": "0fdcbea6",
   "metadata": {},
   "outputs": [],
   "source": []
  }
 ],
 "metadata": {
  "kernelspec": {
   "display_name": "Python 3 (ipykernel)",
   "language": "python",
   "name": "python3"
  },
  "language_info": {
   "codemirror_mode": {
    "name": "ipython",
    "version": 3
   },
   "file_extension": ".py",
   "mimetype": "text/x-python",
   "name": "python",
   "nbconvert_exporter": "python",
   "pygments_lexer": "ipython3",
   "version": "3.11.5"
  }
 },
 "nbformat": 4,
 "nbformat_minor": 5
}
